{
  "nbformat": 4,
  "nbformat_minor": 0,
  "metadata": {
    "colab": {
      "provenance": []
    },
    "kernelspec": {
      "name": "python3",
      "display_name": "Python 3"
    },
    "language_info": {
      "name": "python"
    }
  },
  "cells": [
    {
      "cell_type": "code",
      "source": [
        "import random\n",
        "height = 15\n",
        "def christmas_tree():\n",
        "    print('\\n')\n",
        "    for i in range(height):\n",
        "        print(' ' * (height - i), end='')\n",
        "        for j in range((2 * i) + 1):\n",
        "            if random.random() < 0.1:\n",
        "                color = random.choice(['\\033[1;31m', '\\033[33m', '\\033[1;34m'])\n",
        "                print(color, end='')  #  the lights\n",
        "            else:\n",
        "                print('\\033[32m', end='')  #  green\n",
        "            print('*', end='')\n",
        "        print()\n",
        "    print((' ' * height) + '|')\n",
        "    print((' ' * 8) + 'Merry Christmas!')\n",
        "    print((' ' * 13) + '2024\\n')\n",
        "\n",
        "christmas_tree()"
      ],
      "metadata": {
        "colab": {
          "base_uri": "https://localhost:8080/"
        },
        "id": "kmVXTj4VPkKn",
        "outputId": "4d1350f6-8d3b-4ba6-8481-32eb585452a7"
      },
      "execution_count": null,
      "outputs": [
        {
          "output_type": "stream",
          "name": "stdout",
          "text": [
            "\n",
            "\n",
            "               \u001b[1;34m*\n",
            "              \u001b[32m*\u001b[32m*\u001b[32m*\n",
            "             \u001b[32m*\u001b[32m*\u001b[32m*\u001b[32m*\u001b[1;31m*\n",
            "            \u001b[32m*\u001b[32m*\u001b[32m*\u001b[33m*\u001b[32m*\u001b[32m*\u001b[33m*\n",
            "           \u001b[32m*\u001b[32m*\u001b[32m*\u001b[32m*\u001b[1;34m*\u001b[32m*\u001b[32m*\u001b[32m*\u001b[32m*\n",
            "          \u001b[32m*\u001b[32m*\u001b[32m*\u001b[32m*\u001b[33m*\u001b[32m*\u001b[32m*\u001b[32m*\u001b[32m*\u001b[32m*\u001b[33m*\n",
            "         \u001b[1;31m*\u001b[32m*\u001b[32m*\u001b[1;31m*\u001b[32m*\u001b[32m*\u001b[32m*\u001b[32m*\u001b[32m*\u001b[32m*\u001b[32m*\u001b[32m*\u001b[32m*\n",
            "        \u001b[32m*\u001b[32m*\u001b[32m*\u001b[32m*\u001b[32m*\u001b[32m*\u001b[32m*\u001b[32m*\u001b[32m*\u001b[32m*\u001b[32m*\u001b[32m*\u001b[32m*\u001b[32m*\u001b[32m*\n",
            "       \u001b[32m*\u001b[32m*\u001b[32m*\u001b[32m*\u001b[32m*\u001b[32m*\u001b[32m*\u001b[32m*\u001b[32m*\u001b[32m*\u001b[32m*\u001b[32m*\u001b[32m*\u001b[32m*\u001b[32m*\u001b[32m*\u001b[32m*\n",
            "      \u001b[32m*\u001b[32m*\u001b[32m*\u001b[1;31m*\u001b[32m*\u001b[32m*\u001b[32m*\u001b[32m*\u001b[32m*\u001b[32m*\u001b[32m*\u001b[32m*\u001b[32m*\u001b[32m*\u001b[32m*\u001b[32m*\u001b[32m*\u001b[32m*\u001b[32m*\n",
            "     \u001b[32m*\u001b[32m*\u001b[1;31m*\u001b[32m*\u001b[32m*\u001b[32m*\u001b[32m*\u001b[32m*\u001b[32m*\u001b[32m*\u001b[32m*\u001b[32m*\u001b[32m*\u001b[32m*\u001b[32m*\u001b[32m*\u001b[32m*\u001b[1;31m*\u001b[32m*\u001b[32m*\u001b[32m*\n",
            "    \u001b[32m*\u001b[32m*\u001b[32m*\u001b[32m*\u001b[32m*\u001b[32m*\u001b[32m*\u001b[32m*\u001b[32m*\u001b[32m*\u001b[1;34m*\u001b[32m*\u001b[32m*\u001b[32m*\u001b[32m*\u001b[32m*\u001b[32m*\u001b[32m*\u001b[32m*\u001b[32m*\u001b[32m*\u001b[32m*\u001b[1;34m*\n",
            "   \u001b[32m*\u001b[32m*\u001b[32m*\u001b[32m*\u001b[32m*\u001b[32m*\u001b[32m*\u001b[32m*\u001b[32m*\u001b[32m*\u001b[32m*\u001b[32m*\u001b[32m*\u001b[32m*\u001b[32m*\u001b[32m*\u001b[32m*\u001b[32m*\u001b[32m*\u001b[32m*\u001b[33m*\u001b[32m*\u001b[32m*\u001b[32m*\u001b[32m*\n",
            "  \u001b[32m*\u001b[32m*\u001b[32m*\u001b[32m*\u001b[32m*\u001b[32m*\u001b[32m*\u001b[32m*\u001b[32m*\u001b[32m*\u001b[32m*\u001b[32m*\u001b[32m*\u001b[32m*\u001b[32m*\u001b[32m*\u001b[32m*\u001b[32m*\u001b[1;31m*\u001b[32m*\u001b[32m*\u001b[1;31m*\u001b[32m*\u001b[32m*\u001b[32m*\u001b[32m*\u001b[32m*\n",
            " \u001b[32m*\u001b[32m*\u001b[32m*\u001b[1;31m*\u001b[32m*\u001b[32m*\u001b[32m*\u001b[32m*\u001b[32m*\u001b[32m*\u001b[32m*\u001b[32m*\u001b[32m*\u001b[32m*\u001b[32m*\u001b[32m*\u001b[32m*\u001b[32m*\u001b[32m*\u001b[33m*\u001b[32m*\u001b[32m*\u001b[32m*\u001b[32m*\u001b[32m*\u001b[32m*\u001b[32m*\u001b[32m*\u001b[32m*\n",
            "               |\n",
            "        Merry Christmas!\n",
            "             2024\n",
            "\n"
          ]
        }
      ]
    },
    {
      "cell_type": "code",
      "source": [
        "!pip install colorama\n",
        "!pip install pyfiglet"
      ],
      "metadata": {
        "colab": {
          "base_uri": "https://localhost:8080/"
        },
        "id": "RK-zFFDhPi_q",
        "outputId": "30ff8c20-339d-42f3-fb34-16f035092f6a"
      },
      "execution_count": null,
      "outputs": [
        {
          "output_type": "stream",
          "name": "stdout",
          "text": [
            "Requirement already satisfied: colorama in /usr/local/lib/python3.10/dist-packages (0.4.6)\n",
            "Collecting pyfiglet\n",
            "  Downloading pyfiglet-1.0.2-py3-none-any.whl.metadata (7.1 kB)\n",
            "Downloading pyfiglet-1.0.2-py3-none-any.whl (1.1 MB)\n",
            "\u001b[2K   \u001b[90m━━━━━━━━━━━━━━━━━━━━━━━━━━━━━━━━━━━━━━━━\u001b[0m \u001b[32m1.1/1.1 MB\u001b[0m \u001b[31m10.0 MB/s\u001b[0m eta \u001b[36m0:00:00\u001b[0m\n",
            "\u001b[?25hInstalling collected packages: pyfiglet\n",
            "Successfully installed pyfiglet-1.0.2\n"
          ]
        }
      ]
    },
    {
      "cell_type": "code",
      "source": [
        "from colorama import Fore, Back, Style\n",
        "import pyfiglet\n",
        "font = pyfiglet.figlet_format (\"Merry Christmas!\")\n",
        "font1 = pyfiglet.figlet_format (\"Group B&D\")\n",
        "\n",
        "print (Fore.RED+font+Fore.BLIE+font1)"
      ],
      "metadata": {
        "id": "y--cAZDARdBM"
      },
      "execution_count": null,
      "outputs": []
    }
  ]
}